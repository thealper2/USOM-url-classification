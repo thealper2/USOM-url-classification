{
 "cells": [
  {
   "cell_type": "code",
   "execution_count": 101,
   "id": "a93856f6",
   "metadata": {},
   "outputs": [],
   "source": [
    "import pandas as pd\n",
    "import numpy as np\n",
    "import pickle\n",
    "import seaborn as sns\n",
    "import matplotlib.pyplot as plt\n",
    "import ipaddress\n",
    "import tldextract\n",
    "from urllib.parse import urlparse"
   ]
  },
  {
   "cell_type": "code",
   "execution_count": 78,
   "id": "19f1d56a",
   "metadata": {},
   "outputs": [],
   "source": [
    "benign_df = pd.read_csv(\"benign_url.csv\")"
   ]
  },
  {
   "cell_type": "code",
   "execution_count": 79,
   "id": "188d7b6f",
   "metadata": {},
   "outputs": [],
   "source": [
    "benign_df['URL'] = benign_df['URL'].str.replace(r'https://', '')\n",
    "benign_df['URL'] = benign_df['URL'].str.replace(r'http://', '')"
   ]
  },
  {
   "cell_type": "code",
   "execution_count": 80,
   "id": "ad34ffca",
   "metadata": {},
   "outputs": [],
   "source": [
    "malicious_df = pd.read_csv('url-list.txt', header=None)\n",
    "malicious_df = malicious_df.rename(columns = {0: \"URL\"})\n",
    "malicious_df = malicious_df.sample(5000).reset_index(drop=True)"
   ]
  },
  {
   "cell_type": "code",
   "execution_count": 81,
   "id": "993b7b98",
   "metadata": {},
   "outputs": [],
   "source": [
    "malicious_df.loc[~malicious_df['URL'].str.endswith(('.php', '.html', '/')), 'URL'] = malicious_df.loc[~malicious_df['URL'].str.endswith(('.php', '.html', '/')), 'URL'] + '/'"
   ]
  },
  {
   "cell_type": "code",
   "execution_count": 82,
   "id": "5f64722d",
   "metadata": {},
   "outputs": [],
   "source": [
    "malicious_df['Lable'] = [1 for i in range(len(malicious_df))]"
   ]
  },
  {
   "cell_type": "code",
   "execution_count": 83,
   "id": "247b60c0",
   "metadata": {},
   "outputs": [],
   "source": [
    "def urllen(url):\n",
    "    return len(url)"
   ]
  },
  {
   "cell_type": "code",
   "execution_count": 84,
   "id": "95252c2d",
   "metadata": {},
   "outputs": [],
   "source": [
    "def dotcount(url):\n",
    "    return url.count('.')"
   ]
  },
  {
   "cell_type": "code",
   "execution_count": 85,
   "id": "03563885",
   "metadata": {},
   "outputs": [],
   "source": [
    "def delimitercount(url):\n",
    "    return url.count(';') + url.count('_') + url.count('?') + url.count('=') + url.count('&')"
   ]
  },
  {
   "cell_type": "code",
   "execution_count": 86,
   "id": "3353d4b3",
   "metadata": {},
   "outputs": [],
   "source": [
    "def ipcheck(url):\n",
    "    try:\n",
    "        if ipaddress.ip_address(url):\n",
    "            return 1\n",
    "    except:\n",
    "        return 0"
   ]
  },
  {
   "cell_type": "code",
   "execution_count": 87,
   "id": "d4572cda",
   "metadata": {},
   "outputs": [],
   "source": [
    "def hyphencount(url):\n",
    "    return url.count('-')"
   ]
  },
  {
   "cell_type": "code",
   "execution_count": 88,
   "id": "2cff2461",
   "metadata": {},
   "outputs": [],
   "source": [
    "def atcount(url):\n",
    "    return url.count('@')"
   ]
  },
  {
   "cell_type": "code",
   "execution_count": 89,
   "id": "59a382ca",
   "metadata": {},
   "outputs": [],
   "source": [
    "def subdircount(url):\n",
    "    return url.count('/')"
   ]
  },
  {
   "cell_type": "code",
   "execution_count": 90,
   "id": "d120b0ea",
   "metadata": {},
   "outputs": [],
   "source": [
    "def subdomaincount(subdomain):\n",
    "    if subdomain:\n",
    "        return len(subdomain.split('.'))\n",
    "    else:\n",
    "        return 0"
   ]
  },
  {
   "cell_type": "code",
   "execution_count": 91,
   "id": "222b5552",
   "metadata": {},
   "outputs": [],
   "source": [
    "def querycount(query):\n",
    "    if query:\n",
    "        return len(query.split('&'))\n",
    "    else:\n",
    "        return 0"
   ]
  },
  {
   "cell_type": "code",
   "execution_count": 92,
   "id": "d1b81ee7",
   "metadata": {},
   "outputs": [],
   "source": [
    "def preprocess(df):\n",
    "    for i in range(len(df)):\n",
    "        url = str(df.loc[i, \"URL\"])\n",
    "        ext = tldextract.extract(url)\n",
    "        path = urlparse(url)\n",
    "\n",
    "        df.loc[i, \"urllen\"] = urllen(url)\n",
    "        df.loc[i, \"dotcount\"] = dotcount(ext.subdomain)\n",
    "        df.loc[i, \"delimitercount\"] = delimitercount(url)\n",
    "        df.loc[i, \"ipcheck\"] = ipcheck(ext.domain)\n",
    "        df.loc[i, \"hyphencount\"] = hyphencount(path.netloc)\n",
    "        df.loc[i, \"atcount\"] = atcount(path.netloc)\n",
    "        df.loc[i, \"subdircount\"] = subdircount(path.path)\n",
    "        df.loc[i, \"subdomaincount\"] = subdomaincount(ext.subdomain)\n",
    "        df.loc[i, \"querycount\"] = querycount(path.query)\n",
    "        \n",
    "    return df"
   ]
  },
  {
   "cell_type": "code",
   "execution_count": 93,
   "id": "a02da7b5",
   "metadata": {},
   "outputs": [],
   "source": [
    "benign_df = preprocess(benign_df)"
   ]
  },
  {
   "cell_type": "code",
   "execution_count": 94,
   "id": "ab13c520",
   "metadata": {},
   "outputs": [],
   "source": [
    "malicious_df = preprocess(malicious_df)"
   ]
  },
  {
   "cell_type": "code",
   "execution_count": 99,
   "id": "d80706aa",
   "metadata": {},
   "outputs": [],
   "source": [
    "df = pd.concat([benign_df, malicious_df]).reset_index(drop=True)"
   ]
  },
  {
   "cell_type": "code",
   "execution_count": 144,
   "id": "4b72f364",
   "metadata": {},
   "outputs": [],
   "source": [
    "from sklearn.ensemble import AdaBoostClassifier, RandomForestClassifier, GradientBoostingClassifier\n",
    "from sklearn.tree import DecisionTreeClassifier\n",
    "from sklearn.model_selection import train_test_split, GridSearchCV\n",
    "import joblib\n",
    "from xgboost import XGBClassifier\n",
    "from sklearn.metrics import accuracy_score, classification_report\n",
    "from sklearn.pipeline import make_pipeline\n",
    "from sklearn import preprocessing\n",
    "from sklearn import svm\n",
    "from sklearn.linear_model import LogisticRegression"
   ]
  },
  {
   "cell_type": "code",
   "execution_count": 103,
   "id": "c8db3327",
   "metadata": {},
   "outputs": [
    {
     "data": {
      "text/plain": [
       "1    5000\n",
       "0    3494\n",
       "Name: Lable, dtype: int64"
      ]
     },
     "execution_count": 103,
     "metadata": {},
     "output_type": "execute_result"
    }
   ],
   "source": [
    "df['Lable'].value_counts()"
   ]
  },
  {
   "cell_type": "code",
   "execution_count": 104,
   "id": "d95a870f",
   "metadata": {},
   "outputs": [],
   "source": [
    "X = df.drop([\"URL\", \"Lable\"], axis=1).values\n",
    "y = df[\"Lable\"].values\n",
    "\n",
    "X_train, X_test, y_train, y_test = train_test_split(X, y ,test_size=0.2)"
   ]
  },
  {
   "cell_type": "markdown",
   "id": "c5eb5eb5",
   "metadata": {},
   "source": [
    "# Adaboost"
   ]
  },
  {
   "cell_type": "code",
   "execution_count": 154,
   "id": "db3c74c2",
   "metadata": {},
   "outputs": [],
   "source": [
    "ada_model = AdaBoostClassifier().fit(X_train, y_train)"
   ]
  },
  {
   "cell_type": "code",
   "execution_count": 155,
   "id": "81fcfb2a",
   "metadata": {},
   "outputs": [
    {
     "data": {
      "text/plain": [
       "0.8928781636256622"
      ]
     },
     "execution_count": 155,
     "metadata": {},
     "output_type": "execute_result"
    }
   ],
   "source": [
    "y_pred = ada_model.predict(X_test)\n",
    "accuracy_score(y_test, y_pred)"
   ]
  },
  {
   "cell_type": "code",
   "execution_count": 156,
   "id": "270dde74",
   "metadata": {},
   "outputs": [
    {
     "data": {
      "text/plain": [
       "{'learning_rate': 1.0, 'n_estimators': 500}"
      ]
     },
     "execution_count": 156,
     "metadata": {},
     "output_type": "execute_result"
    }
   ],
   "source": [
    "ada_params = { \"n_estimators\": [10, 50, 100, 500],\n",
    "               \"learning_rate\": [0.01, 0.1, 1.0],}\n",
    "ada_model = AdaBoostClassifier()\n",
    "ada_cv_model = GridSearchCV(ada_model, ada_params, cv=10, n_jobs=-1).fit(X_train, y_train)\n",
    "ada_cv_model.best_params_"
   ]
  },
  {
   "cell_type": "code",
   "execution_count": 157,
   "id": "5644d46b",
   "metadata": {},
   "outputs": [
    {
     "name": "stdout",
     "output_type": "stream",
     "text": [
      "              precision    recall  f1-score   support\n",
      "\n",
      "           0       0.87      0.88      0.87       713\n",
      "           1       0.91      0.90      0.91       986\n",
      "\n",
      "    accuracy                           0.89      1699\n",
      "   macro avg       0.89      0.89      0.89      1699\n",
      "weighted avg       0.89      0.89      0.89      1699\n",
      "\n"
     ]
    }
   ],
   "source": [
    "ada_tuned = AdaBoostClassifier(learning_rate=1.0, n_estimators=500).fit(X_train, y_train)\n",
    "y_pred = ada_tuned.predict(X_test)\n",
    "print(classification_report(y_test, y_pred))"
   ]
  },
  {
   "cell_type": "code",
   "execution_count": 158,
   "id": "31dca226",
   "metadata": {},
   "outputs": [
    {
     "data": {
      "text/plain": [
       "0.8928781636256622"
      ]
     },
     "execution_count": 158,
     "metadata": {},
     "output_type": "execute_result"
    }
   ],
   "source": [
    "accuracy_score(y_test, y_pred)"
   ]
  },
  {
   "cell_type": "markdown",
   "id": "fcdc3918",
   "metadata": {},
   "source": [
    "# DecisionTree"
   ]
  },
  {
   "cell_type": "code",
   "execution_count": 159,
   "id": "946576ee",
   "metadata": {},
   "outputs": [],
   "source": [
    "cart_model = DecisionTreeClassifier().fit(X_train, y_train)"
   ]
  },
  {
   "cell_type": "code",
   "execution_count": 160,
   "id": "e8c27ce4",
   "metadata": {},
   "outputs": [
    {
     "data": {
      "text/plain": [
       "0.8940553266627428"
      ]
     },
     "execution_count": 160,
     "metadata": {},
     "output_type": "execute_result"
    }
   ],
   "source": [
    "y_pred = cart_model.predict(X_test)\n",
    "accuracy_score(y_test, y_pred)"
   ]
  },
  {
   "cell_type": "code",
   "execution_count": 161,
   "id": "ace164bb",
   "metadata": {},
   "outputs": [
    {
     "data": {
      "text/plain": [
       "{'max_depth': 4, 'min_samples_split': 2}"
      ]
     },
     "execution_count": 161,
     "metadata": {},
     "output_type": "execute_result"
    }
   ],
   "source": [
    "cart_params = {\"max_depth\": range(1, 5), \"min_samples_split\": list(range(2, 20))}\n",
    "cart = DecisionTreeClassifier()\n",
    "cart_cv_model = GridSearchCV(cart, cart_params, cv=10, n_jobs=-1).fit(X_train, y_train)\n",
    "cart_cv_model.best_params_"
   ]
  },
  {
   "cell_type": "code",
   "execution_count": 162,
   "id": "96e5d9c9",
   "metadata": {},
   "outputs": [
    {
     "name": "stdout",
     "output_type": "stream",
     "text": [
      "              precision    recall  f1-score   support\n",
      "\n",
      "           0       0.88      0.88      0.88       713\n",
      "           1       0.91      0.91      0.91       986\n",
      "\n",
      "    accuracy                           0.90      1699\n",
      "   macro avg       0.90      0.90      0.90      1699\n",
      "weighted avg       0.90      0.90      0.90      1699\n",
      "\n"
     ]
    }
   ],
   "source": [
    "cart_tuned = DecisionTreeClassifier(max_depth=4, min_samples_split=2).fit(X_train, y_train)\n",
    "y_pred = cart_tuned.predict(X_test)\n",
    "print(classification_report(y_test, y_pred))"
   ]
  },
  {
   "cell_type": "code",
   "execution_count": 163,
   "id": "faf54430",
   "metadata": {},
   "outputs": [
    {
     "data": {
      "text/plain": [
       "0.898175397292525"
      ]
     },
     "execution_count": 163,
     "metadata": {},
     "output_type": "execute_result"
    }
   ],
   "source": [
    "accuracy_score(y_test, y_pred)"
   ]
  },
  {
   "cell_type": "markdown",
   "id": "d094318c",
   "metadata": {},
   "source": [
    "# Random Forest"
   ]
  },
  {
   "cell_type": "code",
   "execution_count": 164,
   "id": "cbf506ff",
   "metadata": {},
   "outputs": [],
   "source": [
    "rf_model = RandomForestClassifier().fit(X_train, y_train)"
   ]
  },
  {
   "cell_type": "code",
   "execution_count": 165,
   "id": "d965051e",
   "metadata": {},
   "outputs": [
    {
     "data": {
      "text/plain": [
       "0.8946439081812831"
      ]
     },
     "execution_count": 165,
     "metadata": {},
     "output_type": "execute_result"
    }
   ],
   "source": [
    "y_pred = rf_model.predict(X_test)\n",
    "accuracy_score(y_test, y_pred)"
   ]
  },
  {
   "cell_type": "code",
   "execution_count": 166,
   "id": "ca19cf23",
   "metadata": {},
   "outputs": [
    {
     "data": {
      "text/plain": [
       "{'max_depth': 4, 'max_features': 3, 'n_estimators': 35}"
      ]
     },
     "execution_count": 166,
     "metadata": {},
     "output_type": "execute_result"
    }
   ],
   "source": [
    "rf_params = {'max_depth': list(range(1, 5)), 'max_features': [1, 2, 3], 'n_estimators': [25, 35, 50]}\n",
    "rf_model = RandomForestClassifier()\n",
    "rf_cv_model = GridSearchCV(rf_model, rf_params, cv=10, n_jobs=-1).fit(X_train, y_train)\n",
    "rf_cv_model.best_params_"
   ]
  },
  {
   "cell_type": "code",
   "execution_count": 167,
   "id": "9a318aae",
   "metadata": {},
   "outputs": [
    {
     "name": "stdout",
     "output_type": "stream",
     "text": [
      "              precision    recall  f1-score   support\n",
      "\n",
      "           0       0.86      0.89      0.87       713\n",
      "           1       0.92      0.90      0.91       986\n",
      "\n",
      "    accuracy                           0.89      1699\n",
      "   macro avg       0.89      0.89      0.89      1699\n",
      "weighted avg       0.89      0.89      0.89      1699\n",
      "\n"
     ]
    }
   ],
   "source": [
    "rf_tuned = RandomForestClassifier(max_depth= 4, max_features= 3, n_estimators= 25).fit(X_train, y_train)\n",
    "y_pred = rf_tuned.predict(X_test)\n",
    "print(classification_report(y_test, y_pred))"
   ]
  },
  {
   "cell_type": "code",
   "execution_count": 168,
   "id": "43d52b95",
   "metadata": {},
   "outputs": [
    {
     "data": {
      "text/plain": [
       "0.8934667451442024"
      ]
     },
     "execution_count": 168,
     "metadata": {},
     "output_type": "execute_result"
    }
   ],
   "source": [
    "accuracy_score(y_test, y_pred)"
   ]
  },
  {
   "cell_type": "markdown",
   "id": "95d4df59",
   "metadata": {},
   "source": [
    "# Logistic Regression"
   ]
  },
  {
   "cell_type": "code",
   "execution_count": 169,
   "id": "8feaf5ea",
   "metadata": {},
   "outputs": [],
   "source": [
    "logistic_model = LogisticRegression(solver=\"liblinear\").fit(X_train, y_train)"
   ]
  },
  {
   "cell_type": "code",
   "execution_count": 170,
   "id": "e7dce19b",
   "metadata": {},
   "outputs": [
    {
     "data": {
      "text/plain": [
       "0.8964096527369041"
      ]
     },
     "execution_count": 170,
     "metadata": {},
     "output_type": "execute_result"
    }
   ],
   "source": [
    "y_pred = logistic_model.predict(X_test)\n",
    "accuracy_score(y_test, y_pred)"
   ]
  },
  {
   "cell_type": "code",
   "execution_count": 171,
   "id": "7c4477ff",
   "metadata": {},
   "outputs": [
    {
     "data": {
      "text/plain": [
       "{'penalty': 'l1'}"
      ]
     },
     "execution_count": 171,
     "metadata": {},
     "output_type": "execute_result"
    }
   ],
   "source": [
    "logistic_params = {\"penalty\": [\"l1\", \"l2\"]}\n",
    "logistic_model = LogisticRegression(solver=\"liblinear\")\n",
    "logistic_cv_model = GridSearchCV(logistic_model, logistic_params, cv=10).fit(X_train, y_train)\n",
    "logistic_cv_model.best_params_"
   ]
  },
  {
   "cell_type": "code",
   "execution_count": 172,
   "id": "4e8d97f3",
   "metadata": {},
   "outputs": [
    {
     "name": "stdout",
     "output_type": "stream",
     "text": [
      "              precision    recall  f1-score   support\n",
      "\n",
      "           0       0.87      0.88      0.88       713\n",
      "           1       0.91      0.91      0.91       986\n",
      "\n",
      "    accuracy                           0.90      1699\n",
      "   macro avg       0.89      0.89      0.89      1699\n",
      "weighted avg       0.90      0.90      0.90      1699\n",
      "\n"
     ]
    }
   ],
   "source": [
    "logistic_tuned = LogisticRegression(solver=\"liblinear\", penalty=\"l1\").fit(X_train, y_train)\n",
    "y_pred = logistic_tuned.predict(X_test)\n",
    "print(classification_report(y_test, y_pred))"
   ]
  },
  {
   "cell_type": "code",
   "execution_count": 173,
   "id": "1afbb013",
   "metadata": {},
   "outputs": [
    {
     "data": {
      "text/plain": [
       "0.8964096527369041"
      ]
     },
     "execution_count": 173,
     "metadata": {},
     "output_type": "execute_result"
    }
   ],
   "source": [
    "accuracy_score(y_test, y_pred)"
   ]
  },
  {
   "cell_type": "markdown",
   "id": "0f8b636f",
   "metadata": {},
   "source": [
    "# XGBoost"
   ]
  },
  {
   "cell_type": "code",
   "execution_count": 184,
   "id": "dc94e492",
   "metadata": {},
   "outputs": [],
   "source": [
    "xgb_model = XGBClassifier().fit(X_train, y_train)"
   ]
  },
  {
   "cell_type": "code",
   "execution_count": 185,
   "id": "7759addf",
   "metadata": {},
   "outputs": [
    {
     "data": {
      "text/plain": [
       "0.8952324896998234"
      ]
     },
     "execution_count": 185,
     "metadata": {},
     "output_type": "execute_result"
    }
   ],
   "source": [
    "y_pred = xgb_model.predict(X_test)\n",
    "accuracy_score(y_test, y_pred)"
   ]
  },
  {
   "cell_type": "code",
   "execution_count": 186,
   "id": "3907bdf5",
   "metadata": {},
   "outputs": [
    {
     "data": {
      "text/plain": [
       "{'learning_rate': 0.01, 'max_depth': 5, 'n_estimators': 100}"
      ]
     },
     "execution_count": 186,
     "metadata": {},
     "output_type": "execute_result"
    }
   ],
   "source": [
    "xgb_params = {'n_estimators': [100, 250, 500],\n",
    "              'max_depth': [3, 5, 10],\n",
    "              'learning_rate': [0.01, 0.1],\n",
    "}\n",
    "xgb_model = XGBClassifier()\n",
    "xgb_cv_model = GridSearchCV(xgb_model, xgb_params, cv=10, n_jobs=-1).fit(X_train, y_train)\n",
    "xgb_cv_model.best_params_"
   ]
  },
  {
   "cell_type": "code",
   "execution_count": 187,
   "id": "6097f35a",
   "metadata": {},
   "outputs": [
    {
     "name": "stdout",
     "output_type": "stream",
     "text": [
      "[23:15:59] WARNING: ../src/learner.cc:767: \n",
      "Parameters: { \"max_features\" } are not used.\n",
      "\n",
      "              precision    recall  f1-score   support\n",
      "\n",
      "           0       0.87      0.89      0.88       713\n",
      "           1       0.92      0.90      0.91       986\n",
      "\n",
      "    accuracy                           0.89      1699\n",
      "   macro avg       0.89      0.89      0.89      1699\n",
      "weighted avg       0.90      0.89      0.89      1699\n",
      "\n"
     ]
    }
   ],
   "source": [
    "xgb_tuned = XGBClassifier(max_depth=5, max_features=50, n_estimators=100).fit(X_train, y_train)\n",
    "y_pred = xgb_tuned.predict(X_test)\n",
    "print(classification_report(y_test, y_pred))"
   ]
  },
  {
   "cell_type": "code",
   "execution_count": 188,
   "id": "31223a8a",
   "metadata": {},
   "outputs": [
    {
     "data": {
      "text/plain": [
       "0.8946439081812831"
      ]
     },
     "execution_count": 188,
     "metadata": {},
     "output_type": "execute_result"
    }
   ],
   "source": [
    "accuracy_score(y_test, y_pred)"
   ]
  },
  {
   "cell_type": "markdown",
   "id": "1772a911",
   "metadata": {},
   "source": [
    "# Gradient Boosting"
   ]
  },
  {
   "cell_type": "code",
   "execution_count": 179,
   "id": "e77da774",
   "metadata": {},
   "outputs": [],
   "source": [
    "gbm_model = GradientBoostingClassifier().fit(X_train, y_train)"
   ]
  },
  {
   "cell_type": "code",
   "execution_count": 180,
   "id": "e069b037",
   "metadata": {},
   "outputs": [
    {
     "data": {
      "text/plain": [
       "0.8934667451442024"
      ]
     },
     "execution_count": 180,
     "metadata": {},
     "output_type": "execute_result"
    }
   ],
   "source": [
    "y_pred = gbm_model.predict(X_test)\n",
    "accuracy_score(y_test, y_pred)"
   ]
  },
  {
   "cell_type": "code",
   "execution_count": 181,
   "id": "56c7eed0",
   "metadata": {},
   "outputs": [
    {
     "data": {
      "text/plain": [
       "{'learning_rate': 0.001, 'max_depth': 5, 'n_estimators': 500}"
      ]
     },
     "execution_count": 181,
     "metadata": {},
     "output_type": "execute_result"
    }
   ],
   "source": [
    "gbm_params = {\"learning_rate\": [0.001, 0.01, 0.1], \n",
    "              \"n_estimators\": [100, 250, 500], \n",
    "              \"max_depth\": [3, 5, 10]}\n",
    "gbm_model = GradientBoostingClassifier()\n",
    "gbm_cv_model = GridSearchCV(gbm_model, gbm_params, cv=10, n_jobs=-1).fit(X_train, y_train)\n",
    "gbm_cv_model.best_params_"
   ]
  },
  {
   "cell_type": "code",
   "execution_count": 182,
   "id": "1b96beff",
   "metadata": {},
   "outputs": [
    {
     "name": "stdout",
     "output_type": "stream",
     "text": [
      "              precision    recall  f1-score   support\n",
      "\n",
      "           0       0.86      0.88      0.87       713\n",
      "           1       0.91      0.90      0.90       986\n",
      "\n",
      "    accuracy                           0.89      1699\n",
      "   macro avg       0.89      0.89      0.89      1699\n",
      "weighted avg       0.89      0.89      0.89      1699\n",
      "\n"
     ]
    }
   ],
   "source": [
    "gbm_tuned = GradientBoostingClassifier(max_depth=5, max_features=50, n_estimators=100).fit(X_train, y_train)\n",
    "y_pred = gbm_tuned.predict(X_test)\n",
    "print(classification_report(y_test, y_pred))"
   ]
  },
  {
   "cell_type": "code",
   "execution_count": 183,
   "id": "c4de507a",
   "metadata": {},
   "outputs": [
    {
     "data": {
      "text/plain": [
       "0.8887580929958799"
      ]
     },
     "execution_count": 183,
     "metadata": {},
     "output_type": "execute_result"
    }
   ],
   "source": [
    "accuracy_score(y_test, y_pred)"
   ]
  },
  {
   "cell_type": "code",
   "execution_count": 189,
   "id": "b7c77276",
   "metadata": {},
   "outputs": [
    {
     "data": {
      "text/html": [
       "<style>#sk-container-id-1 {color: black;background-color: white;}#sk-container-id-1 pre{padding: 0;}#sk-container-id-1 div.sk-toggleable {background-color: white;}#sk-container-id-1 label.sk-toggleable__label {cursor: pointer;display: block;width: 100%;margin-bottom: 0;padding: 0.3em;box-sizing: border-box;text-align: center;}#sk-container-id-1 label.sk-toggleable__label-arrow:before {content: \"▸\";float: left;margin-right: 0.25em;color: #696969;}#sk-container-id-1 label.sk-toggleable__label-arrow:hover:before {color: black;}#sk-container-id-1 div.sk-estimator:hover label.sk-toggleable__label-arrow:before {color: black;}#sk-container-id-1 div.sk-toggleable__content {max-height: 0;max-width: 0;overflow: hidden;text-align: left;background-color: #f0f8ff;}#sk-container-id-1 div.sk-toggleable__content pre {margin: 0.2em;color: black;border-radius: 0.25em;background-color: #f0f8ff;}#sk-container-id-1 input.sk-toggleable__control:checked~div.sk-toggleable__content {max-height: 200px;max-width: 100%;overflow: auto;}#sk-container-id-1 input.sk-toggleable__control:checked~label.sk-toggleable__label-arrow:before {content: \"▾\";}#sk-container-id-1 div.sk-estimator input.sk-toggleable__control:checked~label.sk-toggleable__label {background-color: #d4ebff;}#sk-container-id-1 div.sk-label input.sk-toggleable__control:checked~label.sk-toggleable__label {background-color: #d4ebff;}#sk-container-id-1 input.sk-hidden--visually {border: 0;clip: rect(1px 1px 1px 1px);clip: rect(1px, 1px, 1px, 1px);height: 1px;margin: -1px;overflow: hidden;padding: 0;position: absolute;width: 1px;}#sk-container-id-1 div.sk-estimator {font-family: monospace;background-color: #f0f8ff;border: 1px dotted black;border-radius: 0.25em;box-sizing: border-box;margin-bottom: 0.5em;}#sk-container-id-1 div.sk-estimator:hover {background-color: #d4ebff;}#sk-container-id-1 div.sk-parallel-item::after {content: \"\";width: 100%;border-bottom: 1px solid gray;flex-grow: 1;}#sk-container-id-1 div.sk-label:hover label.sk-toggleable__label {background-color: #d4ebff;}#sk-container-id-1 div.sk-serial::before {content: \"\";position: absolute;border-left: 1px solid gray;box-sizing: border-box;top: 0;bottom: 0;left: 50%;z-index: 0;}#sk-container-id-1 div.sk-serial {display: flex;flex-direction: column;align-items: center;background-color: white;padding-right: 0.2em;padding-left: 0.2em;position: relative;}#sk-container-id-1 div.sk-item {position: relative;z-index: 1;}#sk-container-id-1 div.sk-parallel {display: flex;align-items: stretch;justify-content: center;background-color: white;position: relative;}#sk-container-id-1 div.sk-item::before, #sk-container-id-1 div.sk-parallel-item::before {content: \"\";position: absolute;border-left: 1px solid gray;box-sizing: border-box;top: 0;bottom: 0;left: 50%;z-index: -1;}#sk-container-id-1 div.sk-parallel-item {display: flex;flex-direction: column;z-index: 1;position: relative;background-color: white;}#sk-container-id-1 div.sk-parallel-item:first-child::after {align-self: flex-end;width: 50%;}#sk-container-id-1 div.sk-parallel-item:last-child::after {align-self: flex-start;width: 50%;}#sk-container-id-1 div.sk-parallel-item:only-child::after {width: 0;}#sk-container-id-1 div.sk-dashed-wrapped {border: 1px dashed gray;margin: 0 0.4em 0.5em 0.4em;box-sizing: border-box;padding-bottom: 0.4em;background-color: white;}#sk-container-id-1 div.sk-label label {font-family: monospace;font-weight: bold;display: inline-block;line-height: 1.2em;}#sk-container-id-1 div.sk-label-container {text-align: center;}#sk-container-id-1 div.sk-container {/* jupyter's `normalize.less` sets `[hidden] { display: none; }` but bootstrap.min.css set `[hidden] { display: none !important; }` so we also need the `!important` here to be able to override the default hidden behavior on the sphinx rendered scikit-learn.org. See: https://github.com/scikit-learn/scikit-learn/issues/21755 */display: inline-block !important;position: relative;}#sk-container-id-1 div.sk-text-repr-fallback {display: none;}</style><div id=\"sk-container-id-1\" class=\"sk-top-container\"><div class=\"sk-text-repr-fallback\"><pre>DecisionTreeClassifier(max_depth=4)</pre><b>In a Jupyter environment, please rerun this cell to show the HTML representation or trust the notebook. <br />On GitHub, the HTML representation is unable to render, please try loading this page with nbviewer.org.</b></div><div class=\"sk-container\" hidden><div class=\"sk-item\"><div class=\"sk-estimator sk-toggleable\"><input class=\"sk-toggleable__control sk-hidden--visually\" id=\"sk-estimator-id-1\" type=\"checkbox\" checked><label for=\"sk-estimator-id-1\" class=\"sk-toggleable__label sk-toggleable__label-arrow\">DecisionTreeClassifier</label><div class=\"sk-toggleable__content\"><pre>DecisionTreeClassifier(max_depth=4)</pre></div></div></div></div></div>"
      ],
      "text/plain": [
       "DecisionTreeClassifier(max_depth=4)"
      ]
     },
     "execution_count": 189,
     "metadata": {},
     "output_type": "execute_result"
    }
   ],
   "source": [
    "joblib.dump(cart_tuned, 'cart_tuned.pkl')\n",
    "best = joblib.load('cart_tuned.pkl')\n",
    "best"
   ]
  },
  {
   "cell_type": "code",
   "execution_count": 191,
   "id": "c9c1087a",
   "metadata": {},
   "outputs": [],
   "source": [
    "columns = df.columns"
   ]
  },
  {
   "cell_type": "code",
   "execution_count": 203,
   "id": "fdba4473",
   "metadata": {},
   "outputs": [],
   "source": [
    "output = pd.DataFrame(columns=columns)\n",
    "output.loc[0, \"URL\"] = 'google.ru/shell.php'"
   ]
  },
  {
   "cell_type": "code",
   "execution_count": 204,
   "id": "dcafa660",
   "metadata": {},
   "outputs": [
    {
     "data": {
      "text/html": [
       "<div>\n",
       "<style scoped>\n",
       "    .dataframe tbody tr th:only-of-type {\n",
       "        vertical-align: middle;\n",
       "    }\n",
       "\n",
       "    .dataframe tbody tr th {\n",
       "        vertical-align: top;\n",
       "    }\n",
       "\n",
       "    .dataframe thead th {\n",
       "        text-align: right;\n",
       "    }\n",
       "</style>\n",
       "<table border=\"1\" class=\"dataframe\">\n",
       "  <thead>\n",
       "    <tr style=\"text-align: right;\">\n",
       "      <th></th>\n",
       "      <th>urllen</th>\n",
       "      <th>dotcount</th>\n",
       "      <th>delimitercount</th>\n",
       "      <th>ipcheck</th>\n",
       "      <th>hyphencount</th>\n",
       "      <th>atcount</th>\n",
       "      <th>subdircount</th>\n",
       "      <th>subdomaincount</th>\n",
       "      <th>querycount</th>\n",
       "    </tr>\n",
       "  </thead>\n",
       "  <tbody>\n",
       "    <tr>\n",
       "      <th>0</th>\n",
       "      <td>19</td>\n",
       "      <td>0</td>\n",
       "      <td>0</td>\n",
       "      <td>0</td>\n",
       "      <td>0</td>\n",
       "      <td>0</td>\n",
       "      <td>1</td>\n",
       "      <td>0</td>\n",
       "      <td>0</td>\n",
       "    </tr>\n",
       "  </tbody>\n",
       "</table>\n",
       "</div>"
      ],
      "text/plain": [
       "  urllen dotcount delimitercount ipcheck hyphencount atcount subdircount  \\\n",
       "0     19        0              0       0           0       0           1   \n",
       "\n",
       "  subdomaincount querycount  \n",
       "0              0          0  "
      ]
     },
     "execution_count": 204,
     "metadata": {},
     "output_type": "execute_result"
    }
   ],
   "source": [
    "output = preprocess(output)\n",
    "output.drop(columns=[\"URL\", \"Lable\"], inplace=True)\n",
    "output"
   ]
  },
  {
   "cell_type": "code",
   "execution_count": 207,
   "id": "0c01cf2d",
   "metadata": {},
   "outputs": [
    {
     "name": "stderr",
     "output_type": "stream",
     "text": [
      "/usr/local/lib/python3.11/dist-packages/sklearn/base.py:432: UserWarning: X has feature names, but DecisionTreeClassifier was fitted without feature names\n",
      "  warnings.warn(\n"
     ]
    },
    {
     "data": {
      "text/plain": [
       "1"
      ]
     },
     "execution_count": 207,
     "metadata": {},
     "output_type": "execute_result"
    }
   ],
   "source": [
    "result = best.predict(output)\n",
    "result.item()"
   ]
  },
  {
   "cell_type": "code",
   "execution_count": 208,
   "id": "3019125e",
   "metadata": {},
   "outputs": [
    {
     "data": {
      "text/plain": [
       "Index(['URL', 'Lable', 'urllen', 'dotcount', 'delimitercount', 'ipcheck',\n",
       "       'hyphencount', 'atcount', 'subdircount', 'subdomaincount',\n",
       "       'querycount'],\n",
       "      dtype='object')"
      ]
     },
     "execution_count": 208,
     "metadata": {},
     "output_type": "execute_result"
    }
   ],
   "source": [
    "df.columns"
   ]
  },
  {
   "cell_type": "code",
   "execution_count": null,
   "id": "01065763",
   "metadata": {},
   "outputs": [],
   "source": []
  }
 ],
 "metadata": {
  "kernelspec": {
   "display_name": "Python 3 (ipykernel)",
   "language": "python",
   "name": "python3"
  },
  "language_info": {
   "codemirror_mode": {
    "name": "ipython",
    "version": 3
   },
   "file_extension": ".py",
   "mimetype": "text/x-python",
   "name": "python",
   "nbconvert_exporter": "python",
   "pygments_lexer": "ipython3",
   "version": "3.11.2"
  }
 },
 "nbformat": 4,
 "nbformat_minor": 5
}
